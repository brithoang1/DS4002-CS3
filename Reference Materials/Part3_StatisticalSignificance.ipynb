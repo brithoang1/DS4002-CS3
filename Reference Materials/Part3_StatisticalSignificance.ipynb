{
  "nbformat": 4,
  "nbformat_minor": 0,
  "metadata": {
    "colab": {
      "provenance": []
    },
    "kernelspec": {
      "name": "python3",
      "display_name": "Python 3"
    },
    "language_info": {
      "name": "python"
    }
  },
  "cells": [
    {
      "cell_type": "code",
      "execution_count": 14,
      "metadata": {
        "colab": {
          "base_uri": "https://localhost:8080/"
        },
        "id": "5WgRLRgLqwnv",
        "outputId": "ec6827b0-913e-4291-d129-4083e36df3b9"
      },
      "outputs": [
        {
          "output_type": "stream",
          "name": "stdout",
          "text": [
            "Z-score= 66.54347924763114\n"
          ]
        }
      ],
      "source": [
        "# statistical significance of the average sentiment scores between biden and trump\n",
        "\n",
        "import math\n",
        "from scipy.stats import norm\n",
        "\n",
        "# summary statistics for Biden\n",
        "mean1 = 0.111159\n",
        "sd1 = 0.47981\n",
        "n1 = 154344\n",
        "\n",
        "# summary statistics for Trump\n",
        "mean2 = -0.003819\n",
        "sd2 = 0.500793\n",
        "n2 = 167876\n",
        "\n",
        "# find standard error of the difference\n",
        "sd_diff = math.sqrt((sd1** 2 /n1) + (sd2**2/ n2))\n",
        "\n",
        "# calculate z-score\n",
        "z_score = (mean1 - mean2)/sd_diff\n",
        "\n",
        "# find the z-score\n",
        "print(\"Z-score=\", z_score)"
      ]
    },
    {
      "cell_type": "code",
      "source": [
        "# using the z-score, now we can figure out the p-value\n",
        "z_score= 66.5435\n",
        "p_value= 2 *(1- norm.cdf(abs(z_score)))\n",
        "round_pvalue = round(p_value, 4)\n",
        "print(\"P-value=\" , round_pvalue)"
      ],
      "metadata": {
        "colab": {
          "base_uri": "https://localhost:8080/"
        },
        "id": "hoXE09ccq9ZR",
        "outputId": "22e6cc1a-886b-438a-9914-46cd07c4c6b7"
      },
      "execution_count": 20,
      "outputs": [
        {
          "output_type": "stream",
          "name": "stdout",
          "text": [
            "P-value= 0.0\n"
          ]
        }
      ]
    },
    {
      "cell_type": "code",
      "source": [
        "print(f\"P-value: {p_value:.4f}\")"
      ],
      "metadata": {
        "colab": {
          "base_uri": "https://localhost:8080/"
        },
        "id": "3GXx5o6O3Xf4",
        "outputId": "ef5626b8-b95a-4b56-8865-7cd72fdba18b"
      },
      "execution_count": 26,
      "outputs": [
        {
          "output_type": "stream",
          "name": "stdout",
          "text": [
            "P-value: 0.0000\n"
          ]
        }
      ]
    },
    {
      "cell_type": "markdown",
      "source": [
        "The p-value is 0.000 which is < the p-value of 0.05. Thus, the sentiment scores are found to be statistically significant.\n",
        "\n"
      ],
      "metadata": {
        "id": "_-Ypr3J93yO2"
      }
    }
  ]
}